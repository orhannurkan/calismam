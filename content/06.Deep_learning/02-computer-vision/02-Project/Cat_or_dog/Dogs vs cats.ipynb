{
 "cells": [
  {
   "cell_type": "markdown",
   "metadata": {},
   "source": [
    "## Dogs vs. Cats\n",
    "In this competition, you'll write an algorithm to classify whether images contain either a dog or a cat.  This is easy for humans, dogs, and cats. Your computer will find it a bit more difficult.\n",
    "\n",
    "\n",
    "![](https://storage.googleapis.com/kaggle-competitions/kaggle/3362/media/woof_meow.jpg)\n",
    "\n",
    "Deep Blue beat Kasparov at chess in 1997.  \n",
    "Watson beat the brightest trivia minds at Jeopardy in 2011.  \n",
    "Can you tell Fido from Mittens in 2013?  \n",
    "\n",
    "\n",
    "## Your task:\n",
    "\n",
    "1. Train your algorithm on these files and predict the labels (1 = dog, 0 = cat).\n",
    "2. Deploy your model in herroku ! The user must have the possibility to upload a photo to test the model.\n",
    "\n",
    "##  Dataset \n",
    "````\n",
    "./dataset/\n",
    "----> training_set/\n",
    "--------> dog/\n",
    "               image1\n",
    "               image2\n",
    "               .\n",
    "               .\n",
    "--------> cat/\n",
    "               image1\n",
    "               image2\n",
    "               .\n",
    "               .\n",
    "----> test_set/\n",
    "--------> dog/\n",
    "               image1\n",
    "               image2\n",
    "               .\n",
    "               .\n",
    "--------> cat/\n",
    "               image1\n",
    "               image2\n",
    "               .\n",
    "           .\n",
    "````\n",
    "\n",
    "To load the dataset uses ImageDataGenerator : \n",
    "https://keras.io/preprocessing/image/"
   ]
  },
  {
   "cell_type": "code",
   "execution_count": null,
   "metadata": {},
   "outputs": [],
   "source": []
  }
 ],
 "metadata": {
  "kernelspec": {
   "display_name": "Python 3",
   "language": "python",
   "name": "python3"
  },
  "language_info": {
   "codemirror_mode": {
    "name": "ipython",
    "version": 3
   },
   "file_extension": ".py",
   "mimetype": "text/x-python",
   "name": "python",
   "nbconvert_exporter": "python",
   "pygments_lexer": "ipython3",
   "version": "3.7.3"
  }
 },
 "nbformat": 4,
 "nbformat_minor": 2
}
