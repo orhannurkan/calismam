{
 "cells": [
  {
   "cell_type": "markdown",
   "metadata": {},
   "source": [
    "# Sick or not ?\n",
    "\n",
    "Neural networks are also used and work very well on more traditional data sets than images. Here is a set of data that contains a column with the white blood cell rate, another with the red blood cell rate and a last one with an indication of who is sick or not. (Not sick = 0, sick = 1)\n",
    "\n",
    "The (fictionals) dataset is located in the dataset folder, here is the path :  \n",
    "\n",
    "``\"./dataset/sick_or_not.csv\"`` \n",
    "\n",
    "Rows : 40000\n",
    "\n",
    "## Your task:\n",
    "\n",
    "Design a model that recognizes if the person is sick based on white and red blood cells.  \n",
    "Use neural networks to perform this task. \n",
    "\n",
    "![](https://d418bv7mr3wfv.cloudfront.net/s3/W1siZiIsIjIwMTcvMDUvMzAvMDYvNTMvNTcvODk3L2dpcmwtMjE3MTA1Ml85NjBfNzIwLmpwZyJdLFsicCIsInRodW1iIiwiOTgweDU4MCMiXV0)"
   ]
  },
  {
   "cell_type": "markdown",
   "metadata": {},
   "source": [
    "### Score to beat :\n",
    "Accuracy: **% 96.025**  \n",
    "Loss : **0.1151**  \n",
    "Epochs : **40**  \n",
    "That means that out of **8000** test samples, this model got **7682** correct and **318** incorrect."
   ]
  },
  {
   "cell_type": "code",
   "execution_count": 205,
   "metadata": {},
   "outputs": [],
   "source": [
    "###Enter your code here !\n"
   ]
  }
 ],
 "metadata": {
  "kernelspec": {
   "display_name": "Python 3",
   "language": "python",
   "name": "python3"
  },
  "language_info": {
   "codemirror_mode": {
    "name": "ipython",
    "version": 3
   },
   "file_extension": ".py",
   "mimetype": "text/x-python",
   "name": "python",
   "nbconvert_exporter": "python",
   "pygments_lexer": "ipython3",
   "version": "3.7.3"
  }
 },
 "nbformat": 4,
 "nbformat_minor": 2
}
